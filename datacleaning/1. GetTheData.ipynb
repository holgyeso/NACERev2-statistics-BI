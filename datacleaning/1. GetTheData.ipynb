{
 "cells": [
  {
   "cell_type": "markdown",
   "metadata": {},
   "source": [
    "# ADATOK FORRÁSA ÉS BETÖLTÉSE PYTHONBA"
   ]
  },
  {
   "cell_type": "markdown",
   "metadata": {},
   "source": [
    "Az adatok Eurostat-ról származnak. Részletes leírása az `eurostat` könyvtárnak:\n",
    "https://pypi.org/project/eurostat/\n",
    "<br>\n",
    "Első lépés - instalálni a könyvtárat:"
   ]
  },
  {
   "cell_type": "code",
   "execution_count": null,
   "metadata": {},
   "outputs": [],
   "source": [
    "#!python -m pip install eurostat"
   ]
  },
  {
   "cell_type": "code",
   "execution_count": null,
   "metadata": {},
   "outputs": [],
   "source": [
    "import eurostat\n",
    "import pandas as pd"
   ]
  },
  {
   "cell_type": "markdown",
   "metadata": {},
   "source": [
    "`read a dataset from the main database` fejezet\n",
    "<br> Az én dataset-em amit olvasni akarok: _sbs_na_ind_r2_"
   ]
  },
  {
   "cell_type": "code",
   "execution_count": null,
   "metadata": {},
   "outputs": [],
   "source": [
    "df = eurostat.get_data_df('sbs_na_ind_r2')\n",
    "df"
   ]
  },
  {
   "cell_type": "markdown",
   "metadata": {},
   "source": [
    "# ADATFORMÁZÁS"
   ]
  },
  {
   "cell_type": "markdown",
   "metadata": {},
   "source": [
    "## A lekért táblázat formázása"
   ]
  },
  {
   "cell_type": "markdown",
   "metadata": {},
   "source": [
    "Mivel csak 5 évre visszamenőleg akarom ábrázolni, 2014-től arra eldobom az adatokat"
   ]
  },
  {
   "cell_type": "code",
   "execution_count": null,
   "metadata": {},
   "outputs": [],
   "source": [
    "for year in range(2005,2015,1):\n",
    "    df.drop(year, axis=1, inplace=True)"
   ]
  },
  {
   "cell_type": "markdown",
   "metadata": {},
   "source": [
    "Átnevezem az oszlopokat"
   ]
  },
  {
   "cell_type": "code",
   "execution_count": null,
   "metadata": {},
   "outputs": [],
   "source": [
    "df = df.rename(columns={'indic_sb': 'indicator', 'geo\\\\time': 'country_code'})\n",
    "df"
   ]
  },
  {
   "cell_type": "markdown",
   "metadata": {},
   "source": [
    "Csak európai országokat szeretnék, ezért a többit ugyancsak eldobom. Ugyanúgy az Uniós összesített adatokat is meg Liechtenstein-t ahol nem voltak adatok"
   ]
  },
  {
   "cell_type": "code",
   "execution_count": null,
   "metadata": {},
   "outputs": [],
   "source": [
    "df[\"country_code\"].unique()"
   ]
  },
  {
   "cell_type": "code",
   "execution_count": null,
   "metadata": {},
   "outputs": [],
   "source": [
    "df = df.set_index('country_code').drop(['EU27_2007', 'EU27_2020', 'EU28', 'TR', 'TOTAL', 'LI'],axis=0).reset_index()"
   ]
  },
  {
   "cell_type": "markdown",
   "metadata": {},
   "source": [
    "## A mutatók kiválasztása és az `indicator` kódok leírása"
   ]
  },
  {
   "cell_type": "markdown",
   "metadata": {},
   "source": [
    "Az eurostat könyvtár segítségével le lehet kérni a kódokat: get an Eurostat dictionary => `eurostat.get_dic(code)`\n",
    "\n",
    "_A NACE kódokat is le lehetne innen tölteni, de nekem meg magyarul kellenének._\n"
   ]
  },
  {
   "cell_type": "markdown",
   "metadata": {},
   "source": [
    "Az összes mutató letöltése ami megtalálható az eurostat-on"
   ]
  },
  {
   "cell_type": "code",
   "execution_count": null,
   "metadata": {},
   "outputs": [],
   "source": [
    "indicators = eurostat.get_dic('indic_sb')\n",
    "indicators"
   ]
  },
  {
   "cell_type": "markdown",
   "metadata": {},
   "source": [
    "Azon mutatók kiszűrése és magyar megfelelőik amelyek engem érdekelnek"
   ]
  },
  {
   "cell_type": "code",
   "execution_count": null,
   "metadata": {},
   "outputs": [],
   "source": [
    "needed_indicators = {\n",
    "    'Enterprises - number': 'Vállalatok száma',\n",
    "    'Value added at factor cost - million euro': 'Hozzáadott érték tényezőköltségen - millió euró',\n",
    "    'Turnover or gross premiums written - million euro': 'Árbevétel vagy bruttó díjbevétel - millió euró',\n",
    "    'Wages and Salaries - million euro': 'Személyzeti kiadások - millió euró',\n",
    "    'Total purchases of goods and services - million euro': 'Termék és szolgáltatás vásárlások összesen - millió euró',\n",
    "    'Gross operating surplus - million euro': 'Bruttó működési eredmény - millió euró',\n",
    "}\n",
    "\n",
    "needed_indicator_codes = list(filter(lambda key: indicators.get(key) in needed_indicators.keys(), indicators.keys()))\n",
    "\n",
    "needed_indicator_codes #tartalmazza a mutatók kódját amelyek nekem kelleni fognak\n"
   ]
  },
  {
   "cell_type": "markdown",
   "metadata": {},
   "source": [
    "Csak azokat az indicator-okat hagyom meg a df-ben, amelyek a `needed_indicator_codes` között van"
   ]
  },
  {
   "cell_type": "code",
   "execution_count": null,
   "metadata": {},
   "outputs": [],
   "source": [
    "df = df[df.indicator.isin(needed_indicator_codes)]\n",
    "df"
   ]
  },
  {
   "cell_type": "markdown",
   "metadata": {},
   "source": [
    "A mutatók magyar leírásának beszúrása"
   ]
  },
  {
   "cell_type": "code",
   "execution_count": null,
   "metadata": {},
   "outputs": [],
   "source": [
    "df.loc[:, \"indicators_desc_hu\"] = df.indicator.map(lambda code: needed_indicators[indicators[code]])\n",
    "df"
   ]
  },
  {
   "cell_type": "markdown",
   "metadata": {},
   "source": [
    "Mivel a vizualizációban a személyzeti kiadások és a termék és szolgáltatás vásárlások összege fog kelleni, ezeket nincs értelme külön tárolnom a df-mben, hanem elég lenne egy kiadások összesen mutatót használni"
   ]
  },
  {
   "cell_type": "code",
   "execution_count": null,
   "metadata": {},
   "outputs": [],
   "source": [
    "#kimentem ezt a két változót\n",
    "wage_exp = df.loc[df[\"indicators_desc_hu\"] == \"Személyzeti kiadások - millió euró\"]\n",
    "goods_exp = df.loc[df[\"indicators_desc_hu\"] == \"Termék és szolgáltatás vásárlások összesen - millió euró\"]\n",
    "\n",
    "#törlöm ezeket a df-ből\n",
    "df.drop(df.loc[df[\"indicators_desc_hu\"].isin([\"Személyzeti kiadások - millió euró\", \"Termék és szolgáltatás vásárlások összesen - millió euró\"])].index, inplace=True)"
   ]
  },
  {
   "cell_type": "markdown",
   "metadata": {},
   "source": [
    "Azt a kiadás tömböt járom be amelyikben kevesebb adat van, hogy ne tömjem meg a df-em nan-okkal"
   ]
  },
  {
   "cell_type": "code",
   "execution_count": null,
   "metadata": {},
   "outputs": [],
   "source": [
    "print(len(wage_exp)) \n",
    "print(len(goods_exp))\n"
   ]
  },
  {
   "cell_type": "markdown",
   "metadata": {},
   "source": [
    "Mindkét tömbnek beállítom indexnek az országot és a NACE kódot, hiszen így végig tudom majd járni az egyik kulcsait és egy `loc` segítségével megkapom a másikból az értéket."
   ]
  },
  {
   "cell_type": "code",
   "execution_count": null,
   "metadata": {},
   "outputs": [],
   "source": [
    "wage_exp.set_index([\"country_code\", \"nace_r2\"], inplace=True)\n",
    "goods_exp.set_index([\"country_code\", \"nace_r2\"], inplace=True)"
   ]
  },
  {
   "cell_type": "markdown",
   "metadata": {},
   "source": [
    "Felépítek egy dictonary-t amelyik az összegeket fogja tartalmazni"
   ]
  },
  {
   "cell_type": "code",
   "execution_count": null,
   "metadata": {},
   "outputs": [],
   "source": [
    "import numpy as np\n",
    "\n",
    "exp_dict = {}\n",
    "row = 0\n",
    "for i in goods_exp.index:\n",
    "\n",
    "    country_dict = {}\n",
    "\n",
    "    country_dict[\"country_code\"] = list(i)[0];\n",
    "    country_dict[\"nace_r2\"] = list(i)[1];\n",
    "    country_dict[\"indicator\"] = 'EXP';\n",
    "\n",
    "    for year in range(2019, 2014, -1):\n",
    "        if np.isnan(wage_exp.loc[i, year]) | np.isnan(goods_exp.loc[i, year]): #ha bármelyik NaN, legyen NaN érték, ne adja össze csak a nem-NaN értéket\n",
    "            country_dict[year] = np.nan;\n",
    "        else:\n",
    "            country_dict[year] = (wage_exp.loc[i, year] + goods_exp.loc[i, year])\n",
    "\n",
    "    country_dict[\"indicators_desc_hu\"] = 'Termék és szolgáltatás vásárlások és személyzeti kiadások összesen';\n",
    "\n",
    "    exp_dict[row] = country_dict;\n",
    "    row += 1;\n",
    "\n",
    "exp_dict\n"
   ]
  },
  {
   "cell_type": "markdown",
   "metadata": {},
   "source": [
    "A kapott dictionary-t pedig átalakítom pd.DataFram-é"
   ]
  },
  {
   "cell_type": "code",
   "execution_count": null,
   "metadata": {},
   "outputs": [],
   "source": [
    "#mivel sokkal gyorsabb az átalakítás ha kevés sor van, nem specifikálom, hogy az index a dict.value legyen, hanem utólag transponálom\n",
    "\n",
    "df = pd.concat([df, pd.DataFrame(exp_dict).T], ignore_index=True)\n",
    "df"
   ]
  },
  {
   "cell_type": "markdown",
   "metadata": {},
   "source": [
    "## a NACE kódok leírása"
   ]
  },
  {
   "cell_type": "markdown",
   "metadata": {},
   "source": [
    "Eurostatról is le lehetne kérni az adatot, viszont azok az angol elnevezését adnák vissza a NACE kódoknak, nekem pedig a magyar kell.\n",
    "A <a href=\"https://www.ksh.hu/teaor_menu\">KSH oldalán</a> megtaláltam .xls formátumban a táblázatot a NACE kódokkal."
   ]
  },
  {
   "cell_type": "code",
   "execution_count": null,
   "metadata": {},
   "outputs": [],
   "source": [
    "# !python -m pip install xlrd"
   ]
  },
  {
   "cell_type": "markdown",
   "metadata": {},
   "source": [
    "Beolvasom Excelből az adatot és az első két oszlopon kívül eldobom az összeset"
   ]
  },
  {
   "cell_type": "code",
   "execution_count": null,
   "metadata": {},
   "outputs": [],
   "source": [
    "naces = pd.read_excel(\"NaceCodes_hu.xls\", header=1)\n",
    "naces.drop(naces.columns[2:6], axis=1, inplace=True)\n",
    "naces.columns = [\"code\", \"desc_hu\"]\n",
    "naces.drop(naces.loc[(naces[\"code\"].isna()) | (naces[\"desc_hu\"].isna())].index, inplace=True)\n",
    "naces"
   ]
  },
  {
   "cell_type": "markdown",
   "metadata": {},
   "source": [
    "A kódok az én df-ben B-től E-ig mennek => a többi betűt el kell dobni és minden kód elé be kell tenni a NACE kategória betűjét"
   ]
  },
  {
   "cell_type": "code",
   "execution_count": null,
   "metadata": {},
   "outputs": [],
   "source": [
    "#mivel van ahol int és van ahol str a kód, átalakítom az egész oszlopot stringgé\n",
    "naces[\"code\"] = naces[\"code\"].astype(str)\n",
    "\n",
    "#felépítem, hogy melyik indexeknél változik meg a NACE betűje\n",
    "nace_cat_at_index = {}\n",
    "for i in naces.index:\n",
    "    if (len(naces[\"code\"][i]) == 1):\n",
    "        nace_cat_at_index[naces[\"code\"][i]] = i "
   ]
  },
  {
   "cell_type": "code",
   "execution_count": null,
   "metadata": {},
   "outputs": [],
   "source": [
    "nace_cat_at_index"
   ]
  },
  {
   "cell_type": "code",
   "execution_count": null,
   "metadata": {},
   "outputs": [],
   "source": [
    "#mindig megyek két betű közötti range közt és ha B-E kategóriában van, akkor a számok elé illesztem a betűket, különben törlöm a range-t\n",
    "\n",
    "max_range = len(naces.index) + 1\n",
    "\n",
    "for i in reversed(nace_cat_at_index):\n",
    "    if ord(i) not in range(ord('B'), ord('E') + 1):\n",
    "        naces.drop(naces.iloc[(nace_cat_at_index[i]):max_range - 1].index, inplace=True)\n",
    "    else:\n",
    "        naces.loc[(nace_cat_at_index[i] + 1):max_range - 1, \"code_w_letter\"] = i + naces.loc[(nace_cat_at_index[i] + 1):max_range - 1, \"code\"]\n",
    "    max_range = nace_cat_at_index[i]\n",
    "\n",
    "#beállítom a betű NACE kategóriákat is\n",
    "naces.loc[naces[\"code_w_letter\"].isna(), \"code_w_letter\"] = naces.loc[naces[\"code_w_letter\"].isna(), \"code\"]"
   ]
  },
  {
   "cell_type": "markdown",
   "metadata": {},
   "source": [
    "Maradnak felesleges space-k a kódokban => trimmelni kell a code_w_letter oszlopot"
   ]
  },
  {
   "cell_type": "code",
   "execution_count": null,
   "metadata": {},
   "outputs": [],
   "source": [
    "naces.code_w_letter = naces.code_w_letter.map(lambda code: code.strip())"
   ]
  },
  {
   "cell_type": "markdown",
   "metadata": {},
   "source": [
    "Beteszem a magyar NACE leírásokat a df-be"
   ]
  },
  {
   "cell_type": "code",
   "execution_count": null,
   "metadata": {},
   "outputs": [],
   "source": [
    "naces.set_index(\"code_w_letter\", inplace=True)\n",
    "df.loc[:, \"nace_r2_desc_hu\"] = df.nace_r2.map(lambda nace: naces.loc[nace, \"desc_hu\"])\n",
    "df"
   ]
  },
  {
   "cell_type": "markdown",
   "metadata": {},
   "source": [
    "## Az országok nevének beszúrása"
   ]
  },
  {
   "cell_type": "markdown",
   "metadata": {},
   "source": [
    "<a href= \"https://hu.wikipedia.org/wiki/ISO_3166-1\">Wikipédiáról</a> kinyerem az országok magyar elnevezését és az ISO2 kódokat."
   ]
  },
  {
   "cell_type": "code",
   "execution_count": null,
   "metadata": {},
   "outputs": [],
   "source": [
    "country_iso = pd.read_html('https://hu.wikipedia.org/wiki/ISO_3166-1')[1]\n",
    "country_iso.rename(columns={\"Ország / Régió\": \"country\", \"Alpha-2\": \"ISO2\"}, inplace=True)\n",
    "\n",
    "#a megkapott df-ből csak az ország és Alpha-2 oszlopok kellenek\n",
    "country_iso.drop(['Numerikus', 'Alpha-3', 'Helyi ISO kódok'], axis=1, inplace=True)\n",
    "country_iso"
   ]
  },
  {
   "cell_type": "markdown",
   "metadata": {},
   "source": [
    "Az országok magyar elnevezésének beszúrása"
   ]
  },
  {
   "cell_type": "code",
   "execution_count": null,
   "metadata": {},
   "outputs": [],
   "source": [
    "country_iso.set_index(\"ISO2\", inplace=True)\n"
   ]
  },
  {
   "cell_type": "code",
   "execution_count": null,
   "metadata": {},
   "outputs": [],
   "source": [
    "#amikor lefuttattam a map()-et EL kulcsot nem talált. Ekkor lekérdeztem az Eurostat API-jával, hogy az EL kód melyik országnak felel meg\n",
    "# eurostat.get_dic(\"geo\")[\"EL\"] # ---> Görögország\n",
    "\n",
    "#a Wikipédián és a topojson file-omban Görögország rövidítése GR volt, így a df-emben kicseréltem az EL-t GR-re.\n",
    "# country_iso[country_iso.country == \"Görögország\"]\n",
    "\n",
    "## ugyanez volt 'UK' => 'GB'-vel is\n",
    "# eurostat.get_dic(\"geo\")[\"UK\"] # ---> United Kingdom \n",
    "# country_iso[country_iso.country == \"Egyesült Királyság\"]\n",
    "\n",
    "df.country_code.replace('EL', 'GR', inplace=True)\n",
    "df.country_code.replace('UK', 'GB', inplace=True)\n",
    "\n",
    "df[\"country_name\"] = df.country_code.map(lambda code: country_iso.loc[code][0]) #.loc[code][0], mert .loc[code] visszatérít egy Series-t\n",
    "df\n"
   ]
  },
  {
   "cell_type": "markdown",
   "metadata": {},
   "source": [
    "## GDP értékek hozzárendelése"
   ]
  },
  {
   "cell_type": "markdown",
   "metadata": {},
   "source": [
    "GDP értékek lekérése eurostatról"
   ]
  },
  {
   "cell_type": "code",
   "execution_count": null,
   "metadata": {},
   "outputs": [],
   "source": [
    "gdp_df = eurostat.get_data_df('nama_10_gdp')\n",
    "gdp_df"
   ]
  },
  {
   "cell_type": "markdown",
   "metadata": {},
   "source": [
    "Ugyancsak 2015-2019 évekre kellenek az adatok, ezért a többit eldobom"
   ]
  },
  {
   "cell_type": "code",
   "execution_count": null,
   "metadata": {},
   "outputs": [],
   "source": [
    "for i in range(1975, 2015, 1):\n",
    "    gdp_df.drop(i, axis=1, inplace=True)\n",
    "gdp_df.drop(2020, axis=1, inplace=True)\n",
    "gdp_df"
   ]
  },
  {
   "cell_type": "markdown",
   "metadata": {},
   "source": [
    "A dataset-ből nekem csak a `Value added, gross` mutató kell "
   ]
  },
  {
   "cell_type": "code",
   "execution_count": null,
   "metadata": {},
   "outputs": [],
   "source": [
    "gdp_indicators = eurostat.get_dic(\"na_item\")\n",
    "\n",
    "val_added = list(filter( lambda ind: gdp_indicators[ind] == 'Value added, gross' ,gdp_indicators.keys()))\n",
    "\n",
    "gdp_df = gdp_df[gdp_df[\"na_item\"].isin(val_added)]\n",
    "gdp_df"
   ]
  },
  {
   "cell_type": "markdown",
   "metadata": {},
   "source": [
    "Ugyancsak a `Current prices, million euro` unit kell"
   ]
  },
  {
   "cell_type": "code",
   "execution_count": null,
   "metadata": {},
   "outputs": [],
   "source": [
    "units = eurostat.get_dic(\"unit\")\n",
    "curr_prices = list(filter(lambda key: units[key] == \"Current prices, million euro\" ,units.keys()))\n",
    "\n",
    "gdp_df = gdp_df[gdp_df[\"unit\"].isin(curr_prices)]\n",
    "gdp_df = gdp_df.rename(columns={\"geo\\\\time\": \"country\"})\n",
    "gdp_df"
   ]
  },
  {
   "cell_type": "markdown",
   "metadata": {},
   "source": [
    "Mielőtt összevonnánk a két táblát, ügyelni kell az előbb azonosított két hibás országkódra"
   ]
  },
  {
   "cell_type": "code",
   "execution_count": null,
   "metadata": {},
   "outputs": [],
   "source": [
    "gdp_df[\"country\"].replace('EL', 'GR', inplace=True)\n",
    "gdp_df[\"country\"].replace('UK', 'GB', inplace=True)"
   ]
  },
  {
   "cell_type": "markdown",
   "metadata": {},
   "source": [
    "Eldobom azokat az országokat (sorokat) amelyek nincsenek benne az én df-ben"
   ]
  },
  {
   "cell_type": "code",
   "execution_count": null,
   "metadata": {},
   "outputs": [],
   "source": [
    "gdp_df = gdp_df.loc[gdp_df[\"country\"].isin(df.country_code.unique())]"
   ]
  },
  {
   "cell_type": "markdown",
   "metadata": {},
   "source": [
    "Ezután olyan formára kell hozzuk mint amilyen a df-em, hogy tudjam concat-olni a két adatot"
   ]
  },
  {
   "cell_type": "code",
   "execution_count": null,
   "metadata": {},
   "outputs": [],
   "source": [
    "#unit, na_item oszlopokra nincs szükség\n",
    "gdp_df.drop([\"unit\", \"na_item\"], axis=1, inplace=True)\n",
    "\n",
    "# country átnevezése\n",
    "gdp_df = gdp_df.rename(columns= {\"country\": \"country_code\"})\n",
    "\n",
    "#az indicator beszúrása\n",
    "gdp_df.insert(0, \"indicator\", [\"GDP\" for i in range (gdp_df[\"country_code\"].size)])\n",
    "gdp_df.insert(2, \"nace_r2\", [\"GDP\" for i in range (gdp_df[\"country_code\"].size)])\n",
    "\n",
    "# hozzáadjuk az indicator angol és magyar leírásait\n",
    "gdp_df.loc[:, \"indicators_desc_hu\"] = \"Bruttó hozzáadott érték - folyó áron\"\n",
    "gdp_df.loc[:, \"nace_r2_desc_hu\"] = \"Bruttó hozzáadott érték - folyó áron\"\n",
    "\n",
    "# country_name oszlop hozzáadása\n",
    "gdp_df.loc[:, \"country_name\"] =gdp_df.country_code.map(lambda code: country_iso.loc[code][0])\n",
    "\n",
    "gdp_df"
   ]
  },
  {
   "cell_type": "markdown",
   "metadata": {},
   "source": [
    "Végül pedig összefűzöm a `df` és `gdp_df` dataframeket"
   ]
  },
  {
   "cell_type": "code",
   "execution_count": null,
   "metadata": {},
   "outputs": [],
   "source": [
    "df = pd.concat([df, gdp_df], ignore_index=True)\n",
    "df"
   ]
  },
  {
   "cell_type": "markdown",
   "metadata": {},
   "source": [
    "# NaN ÉRTÉKEK ELVETÉSE"
   ]
  },
  {
   "cell_type": "markdown",
   "metadata": {},
   "source": [
    "Ne legyen olyan sor ahol az összes érték NaN"
   ]
  },
  {
   "cell_type": "code",
   "execution_count": null,
   "metadata": {},
   "outputs": [],
   "source": [
    "df.drop(df.loc[df[2019].isna()].loc[df[2018].isna()].loc[df[2017].isna()].loc[df[2016].isna()].loc[df[2015].isna()].index, axis=0, inplace=True)\n",
    "df"
   ]
  },
  {
   "cell_type": "markdown",
   "metadata": {},
   "source": [
    "# SOR ALAPÚ FORMÁTUMRA HOZÁS"
   ]
  },
  {
   "cell_type": "code",
   "execution_count": null,
   "metadata": {},
   "outputs": [],
   "source": [
    "df = df.set_index([\"indicator\", \"country_code\", \"nace_r2\", \"indicators_desc_hu\", \"nace_r2_desc_hu\" ,\"country_name\"]).stack().reset_index()"
   ]
  },
  {
   "cell_type": "code",
   "execution_count": null,
   "metadata": {},
   "outputs": [],
   "source": [
    "df.columns=[\"indicator\", \"country_code\", \"nace_r2\", \"indicators_desc_hu\", \"nace_r2_desc_hu\" , \"country_name\", \"year\", \"value\"]"
   ]
  },
  {
   "cell_type": "code",
   "execution_count": null,
   "metadata": {},
   "outputs": [],
   "source": [
    "df"
   ]
  },
  {
   "cell_type": "markdown",
   "metadata": {},
   "source": [
    "# ADATOK EXPORTÁLÁSA"
   ]
  },
  {
   "cell_type": "code",
   "execution_count": null,
   "metadata": {},
   "outputs": [],
   "source": [
    "df.to_csv('data.csv', index=False)"
   ]
  }
 ],
 "metadata": {
  "interpreter": {
   "hash": "ed97c91904e4fb09f434e3a538b1278e49a274e79c3fe9817cf7c5d0162e6504"
  },
  "kernelspec": {
   "display_name": "Python 3.10.0 64-bit",
   "language": "python",
   "name": "python3"
  },
  "language_info": {
   "codemirror_mode": {
    "name": "ipython",
    "version": 3
   },
   "file_extension": ".py",
   "mimetype": "text/x-python",
   "name": "python",
   "nbconvert_exporter": "python",
   "pygments_lexer": "ipython3",
   "version": "3.10.0"
  },
  "orig_nbformat": 4
 },
 "nbformat": 4,
 "nbformat_minor": 2
}
